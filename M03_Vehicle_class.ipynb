{
 "cells": [
  {
   "cell_type": "code",
   "execution_count": 9,
   "id": "63353e7c",
   "metadata": {},
   "outputs": [
    {
     "name": "stdout",
     "output_type": "stream",
     "text": [
      "Enter year: 2017\n",
      "Enter make: Homda\n",
      "Enter model: accotrd\n",
      "Enter number of doors: 2\n",
      "Enter roof solid or sunroof: sunroof\n",
      "Vehicle Descrption\n",
      "Vehicle type: Car\n",
      "Year: 2017\n",
      "Make: Homda\n",
      "Model: accotrd\n",
      "Number of doors: 2\n",
      "Type of roof: sunroof\n"
     ]
    }
   ],
   "source": [
    "#Gema Paz Barcenas\n",
    "#Ivytech\n",
    "#M03 Lab - Case Study: Lists, Functions, and Classes\n",
    "\n",
    "# A super class called Vehicle\n",
    "class Vehicle:\n",
    "    def __init__(self, vehicle_type):\n",
    "        self.vehicle_type = vehicle_type\n",
    "\n",
    "\n",
    "#A class called Automobile - vehicle type\n",
    "class Automobile(Vehicle):\n",
    "    def __init__(self, vehicle_type, year, make, model, doors, roof):\n",
    "        # Attributes\n",
    "        Vehicle.__init__(self, vehicle_type)\n",
    "        self.year = year\n",
    "        self.make = make\n",
    "        self.model = model\n",
    "        self.doors = doors\n",
    "        self.roof = roof\n",
    "\n",
    "    # Formating the return\n",
    "    def __str__(self):\n",
    "        return \"Vehicle type: \" + self.vehicle_type + \"\\nYear: \" + self.year + \"\\nMake: \" + self.make + \"\\nModel: \" + self.model + \"\\nNumber of doors: \" + self.doors + \"\\nType of roof: \" + self.roof\n",
    "\n",
    "\n",
    "if __name__ == \"__main__\":\n",
    "    # get year, make, model, doors and roof from user\n",
    "    year = input(\"Enter year: \")\n",
    "    make = input(\"Enter make: \")\n",
    "    model = input(\"Enter model: \")\n",
    "    doors = input(\"Enter number of doors: \")\n",
    "    roof = input(\"Enter roof solid or sunroof: \")\n",
    "    \n",
    "    # store \"car\" into the vehicle type in your Vehicle super class. \n",
    "    car = Automobile(\"Car\", year, make, model, doors, roof)\n",
    "    \n",
    "    \n",
    "    print(\"Vehicle Descrption\")\n",
    "    print(car)"
   ]
  },
  {
   "cell_type": "code",
   "execution_count": null,
   "id": "c6e20710",
   "metadata": {},
   "outputs": [],
   "source": []
  },
  {
   "cell_type": "code",
   "execution_count": null,
   "id": "4b442f61",
   "metadata": {},
   "outputs": [],
   "source": []
  }
 ],
 "metadata": {
  "kernelspec": {
   "display_name": "Python 3 (ipykernel)",
   "language": "python",
   "name": "python3"
  },
  "language_info": {
   "codemirror_mode": {
    "name": "ipython",
    "version": 3
   },
   "file_extension": ".py",
   "mimetype": "text/x-python",
   "name": "python",
   "nbconvert_exporter": "python",
   "pygments_lexer": "ipython3",
   "version": "3.9.13"
  }
 },
 "nbformat": 4,
 "nbformat_minor": 5
}
